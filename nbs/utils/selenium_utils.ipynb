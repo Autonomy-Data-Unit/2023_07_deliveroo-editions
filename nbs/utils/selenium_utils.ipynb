{
 "cells": [
  {
   "cell_type": "markdown",
   "id": "4ab1380d-8657-4085-871c-b56935cfcd2d",
   "metadata": {},
   "source": [
    "# Selenium"
   ]
  },
  {
   "cell_type": "code",
   "execution_count": null,
   "id": "eb966750-6aa1-422a-b789-5ed732a82a36",
   "metadata": {},
   "outputs": [],
   "source": [
    "#| default_exp selenium_utils"
   ]
  },
  {
   "cell_type": "code",
   "execution_count": null,
   "id": "92cdac39-9971-408a-b796-ec41a8f95af9",
   "metadata": {},
   "outputs": [],
   "source": [
    "#| export\n",
    "from selenium import webdriver\n",
    "from selenium.webdriver.chrome.service import Service\n",
    "from webdriver_manager.chrome import ChromeDriverManager\n",
    "from selenium.webdriver.chrome.options import Options\n",
    "from selenium.webdriver.common.by import By\n",
    "from selenium.webdriver.support.ui import WebDriverWait\n",
    "from selenium.webdriver.support import expected_conditions as EC"
   ]
  },
  {
   "cell_type": "markdown",
   "id": "d825fc99-34b9-416c-9b89-aed5ef9ebe34",
   "metadata": {},
   "source": [
    "When scraping with selenium, we should provide relevant headers when making HTTP requests to effectively mimic a popular browser and client, thereby minimizing the chances of a website identifying this software as an automated process which it may block:  "
   ]
  },
  {
   "cell_type": "code",
   "execution_count": null,
   "id": "2aed35ed-be11-4ef1-be09-92a422891cd8",
   "metadata": {},
   "outputs": [],
   "source": [
    "#| export\n",
    "headers = {\n",
    "    \"User-Agent\": \"Mozilla/5.0 (Windows NT 10.0; Win64; x64) AppleWebKit/537.36 (KHTML, like Gecko) Chrome/71.0.3578.98 Safari/537.36\"\n",
    "}"
   ]
  },
  {
   "cell_type": "markdown",
   "id": "7b435018-6807-4bd1-b1bc-5d2f610178dd",
   "metadata": {},
   "source": [
    "We will automate a Chrome browser to navigate webpages and extract data. First we need to install appropriate Chrome webdrivers. We should run this cell once before attempting any scrape:"
   ]
  },
  {
   "cell_type": "code",
   "execution_count": null,
   "id": "d1fa5ba9-afcc-4110-9a3d-88f271976447",
   "metadata": {},
   "outputs": [],
   "source": [
    "#| export\n",
    "service = Service(executable_path=ChromeDriverManager(version=\"114.0.5735.90\").install())"
   ]
  },
  {
   "cell_type": "code",
   "execution_count": null,
   "id": "3419ab92-84d1-4b8f-933a-13540bcb8709",
   "metadata": {},
   "outputs": [],
   "source": [
    "#| export\n",
    "assert service"
   ]
  },
  {
   "cell_type": "code",
   "execution_count": null,
   "id": "1f4b5953-3c71-4dc6-a6cb-62ce6f231f9f",
   "metadata": {},
   "outputs": [
    {
     "name": "stderr",
     "output_type": "stream",
     "text": [
      "/var/folders/hd/5f7tv_ld72b4c26jw6p9t8bh0000gn/T/ipykernel_2092/2894708726.py:6: DeprecationWarning: headless property is deprecated, instead use add_argument('--headless') or add_argument('--headless=new')\n",
      "  options.headless = headless\n"
     ]
    }
   ],
   "source": [
    "#| export\n",
    "def initialise_driver(service, # Instance of `selenium.webdriver.chrome.service.Service`\n",
    "                      headless:bool=False): # Set browser to run headless [False] or visble [True]\n",
    "    \"Initialises Chrome WebDriver\"\n",
    "    options = Options()\n",
    "    options.headless = headless\n",
    "    return webdriver.Chrome(service=service, options=options) \n",
    "\n",
    "driver = initialise_driver(service, True)"
   ]
  },
  {
   "cell_type": "code",
   "execution_count": null,
   "id": "8c62f91f-dd9e-4b20-aa6b-299705cd19e4",
   "metadata": {},
   "outputs": [],
   "source": [
    "#| export\n",
    "assert driver"
   ]
  },
  {
   "cell_type": "markdown",
   "id": "42fbec34-72cb-421c-bd38-6c95b6e48ccf",
   "metadata": {},
   "source": [
    "Lets go ahead an start driving a Chrome Browser. We will set headless to `True` so we won't be able to see the browser. You can set `headless=False` if you'd like to view the browser."
   ]
  },
  {
   "cell_type": "markdown",
   "id": "8aede485-b2b0-4d0a-a7d6-951f95e8c82b",
   "metadata": {},
   "source": [
    "We can now try access a webpage and get an HTML element."
   ]
  },
  {
   "cell_type": "code",
   "execution_count": null,
   "id": "208209cb-d9c6-4316-b177-2687d7c443c4",
   "metadata": {},
   "outputs": [],
   "source": [
    "#| export\n",
    "def get_element_by(url:str, # url to search for\n",
    "                       driver, # driver initialised with `initialise_driver`\n",
    "                       css_component:str=\"id\", # accepted values: `id`, `class_name`, `css_selector`\n",
    "                       css_component_value:str=\"\", # id of element to wait for when url page renders\n",
    "                       timeout:int=15, # seconds to wait for element to appear before timeout error\n",
    "                      ):\n",
    "                   \"Gets selenium web element that matches HTML element ID. Waits for element to load before user-defined timeout\"\n",
    "                   css_component_lookup = {\"id\": By.ID, \"css_selector\": By.CSS_SELECTOR, \"class_name\": By.CLASS_NAME}\n",
    "                   if not css_component_lookup[css_component]:\n",
    "                       print(\"Invalid css_component provided. Should be either 'id', 'class_name' or 'css_selector\")\n",
    "                       return\n",
    "                   driver.get(url)\n",
    "                   wait = WebDriverWait(driver, timeout)    \n",
    "                   filter_input = wait.until(EC.presence_of_element_located((css_component_lookup[css_component], css_component_value)))\n",
    "                   return filter_input"
   ]
  },
  {
   "cell_type": "markdown",
   "id": "987de3d4-9ecf-4542-bc40-942406ad4918",
   "metadata": {},
   "source": [
    "Lets attempt to grab the footer element from the Autonomy ADU homepage:"
   ]
  },
  {
   "cell_type": "code",
   "execution_count": null,
   "id": "0c6950f3-8228-46ab-8adb-fe1738f61d93",
   "metadata": {},
   "outputs": [],
   "source": [
    "base_url = \"https://autonomy.work/adu/\"\n",
    "filter_input = get_element_by(base_url, driver, 'id', 'footer')"
   ]
  },
  {
   "cell_type": "code",
   "execution_count": null,
   "id": "f5bf71a2-d70b-496f-9825-e06fc52ec923",
   "metadata": {},
   "outputs": [],
   "source": [
    "assert filter_input"
   ]
  },
  {
   "cell_type": "code",
   "execution_count": null,
   "id": "ea5ec716-57cf-4cae-9258-8b68dba50bb0",
   "metadata": {},
   "outputs": [],
   "source": [
    "#| hide\n",
    "import nbdev; nbdev.nbdev_export()"
   ]
  }
 ],
 "metadata": {
  "kernelspec": {
   "display_name": "python3",
   "language": "python",
   "name": "python3"
  }
 },
 "nbformat": 4,
 "nbformat_minor": 5
}
