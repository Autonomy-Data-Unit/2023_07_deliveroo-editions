{
 "cells": [
  {
   "cell_type": "markdown",
   "id": "4ab1380d-8657-4085-871c-b56935cfcd2d",
   "metadata": {},
   "source": [
    "# Selenium"
   ]
  },
  {
   "cell_type": "code",
   "execution_count": null,
   "id": "eb966750-6aa1-422a-b789-5ed732a82a36",
   "metadata": {},
   "outputs": [],
   "source": [
    "#| default_exp selenium_utils"
   ]
  },
  {
   "cell_type": "code",
   "execution_count": null,
   "id": "92cdac39-9971-408a-b796-ec41a8f95af9",
   "metadata": {},
   "outputs": [],
   "source": [
    "#| export\n",
    "from selenium import webdriver\n",
    "from selenium.webdriver.chrome.service import Service\n",
    "from webdriver_manager.chrome import ChromeDriverManager\n",
    "from selenium.webdriver.chrome.options import Options\n",
    "from selenium.webdriver.common.by import By\n",
    "from selenium.webdriver.support.ui import WebDriverWait\n",
    "from selenium.webdriver.support import expected_conditions as EC"
   ]
  },
  {
   "cell_type": "markdown",
   "id": "d825fc99-34b9-416c-9b89-aed5ef9ebe34",
   "metadata": {},
   "source": [
    "When scraping with selenium, we should provide relevant headers when making HTTP requests to effectively mimic a popular browser and client, thereby minimizing the chances of a website identifying this software as an automated process which it may block:  "
   ]
  },
  {
   "cell_type": "code",
   "execution_count": null,
   "id": "2aed35ed-be11-4ef1-be09-92a422891cd8",
   "metadata": {},
   "outputs": [],
   "source": [
    "#| export\n",
    "headers = {\n",
    "    \"User-Agent\": \"Mozilla/5.0 (Windows NT 10.0; Win64; x64) AppleWebKit/537.36 (KHTML, like Gecko) Chrome/71.0.3578.98 Safari/537.36\"\n",
    "}"
   ]
  },
  {
   "cell_type": "markdown",
   "id": "7b435018-6807-4bd1-b1bc-5d2f610178dd",
   "metadata": {},
   "source": [
    "We will automate a Chrome browser to navigate webpages and extract data. First we need to install appropriate Chrome webdrivers. We should run this cell once before attempting any scrape:"
   ]
  },
  {
   "cell_type": "code",
   "execution_count": null,
   "id": "d1fa5ba9-afcc-4110-9a3d-88f271976447",
   "metadata": {},
   "outputs": [
    {
     "ename": "ValueError",
     "evalue": "There is no such driver by url https://chromedriver.storage.googleapis.com/LATEST_RELEASE_115.0.5790",
     "output_type": "error",
     "traceback": [
      "\u001b[0;31m---------------------------------------------------------------------------\u001b[0m",
      "\u001b[0;31mValueError\u001b[0m                                Traceback (most recent call last)",
      "Cell \u001b[0;32mIn[3], line 2\u001b[0m\n\u001b[1;32m      1\u001b[0m \u001b[38;5;66;03m#| export\u001b[39;00m\n\u001b[0;32m----> 2\u001b[0m service \u001b[38;5;241m=\u001b[39m Service(executable_path\u001b[38;5;241m=\u001b[39m\u001b[43mChromeDriverManager\u001b[49m\u001b[43m(\u001b[49m\u001b[43m)\u001b[49m\u001b[38;5;241;43m.\u001b[39;49m\u001b[43minstall\u001b[49m\u001b[43m(\u001b[49m\u001b[43m)\u001b[49m)\n",
      "File \u001b[0;32m~/miniconda3/envs/deliveroo/lib/python3.10/site-packages/webdriver_manager/chrome.py:39\u001b[0m, in \u001b[0;36mChromeDriverManager.install\u001b[0;34m(self)\u001b[0m\n\u001b[1;32m     38\u001b[0m \u001b[38;5;28;01mdef\u001b[39;00m \u001b[38;5;21minstall\u001b[39m(\u001b[38;5;28mself\u001b[39m) \u001b[38;5;241m-\u001b[39m\u001b[38;5;241m>\u001b[39m \u001b[38;5;28mstr\u001b[39m:\n\u001b[0;32m---> 39\u001b[0m     driver_path \u001b[38;5;241m=\u001b[39m \u001b[38;5;28;43mself\u001b[39;49m\u001b[38;5;241;43m.\u001b[39;49m\u001b[43m_get_driver_path\u001b[49m\u001b[43m(\u001b[49m\u001b[38;5;28;43mself\u001b[39;49m\u001b[38;5;241;43m.\u001b[39;49m\u001b[43mdriver\u001b[49m\u001b[43m)\u001b[49m\n\u001b[1;32m     40\u001b[0m     os\u001b[38;5;241m.\u001b[39mchmod(driver_path, \u001b[38;5;241m0o755\u001b[39m)\n\u001b[1;32m     41\u001b[0m     \u001b[38;5;28;01mreturn\u001b[39;00m driver_path\n",
      "File \u001b[0;32m~/miniconda3/envs/deliveroo/lib/python3.10/site-packages/webdriver_manager/core/manager.py:30\u001b[0m, in \u001b[0;36mDriverManager._get_driver_path\u001b[0;34m(self, driver)\u001b[0m\n\u001b[1;32m     27\u001b[0m \u001b[38;5;28;01mif\u001b[39;00m binary_path:\n\u001b[1;32m     28\u001b[0m     \u001b[38;5;28;01mreturn\u001b[39;00m binary_path\n\u001b[0;32m---> 30\u001b[0m file \u001b[38;5;241m=\u001b[39m \u001b[38;5;28mself\u001b[39m\u001b[38;5;241m.\u001b[39m_download_manager\u001b[38;5;241m.\u001b[39mdownload_file(\u001b[43mdriver\u001b[49m\u001b[38;5;241;43m.\u001b[39;49m\u001b[43mget_driver_download_url\u001b[49m\u001b[43m(\u001b[49m\u001b[43m)\u001b[49m)\n\u001b[1;32m     31\u001b[0m binary_path \u001b[38;5;241m=\u001b[39m \u001b[38;5;28mself\u001b[39m\u001b[38;5;241m.\u001b[39mdriver_cache\u001b[38;5;241m.\u001b[39msave_file_to_cache(driver, file)\n\u001b[1;32m     32\u001b[0m \u001b[38;5;28;01mreturn\u001b[39;00m binary_path\n",
      "File \u001b[0;32m~/miniconda3/envs/deliveroo/lib/python3.10/site-packages/webdriver_manager/drivers/chrome.py:40\u001b[0m, in \u001b[0;36mChromeDriver.get_driver_download_url\u001b[0;34m(self)\u001b[0m\n\u001b[1;32m     39\u001b[0m \u001b[38;5;28;01mdef\u001b[39;00m \u001b[38;5;21mget_driver_download_url\u001b[39m(\u001b[38;5;28mself\u001b[39m):\n\u001b[0;32m---> 40\u001b[0m     driver_version_to_download \u001b[38;5;241m=\u001b[39m \u001b[38;5;28;43mself\u001b[39;49m\u001b[38;5;241;43m.\u001b[39;49m\u001b[43mget_driver_version_to_download\u001b[49m\u001b[43m(\u001b[49m\u001b[43m)\u001b[49m\n\u001b[1;32m     41\u001b[0m     os_type \u001b[38;5;241m=\u001b[39m \u001b[38;5;28mself\u001b[39m\u001b[38;5;241m.\u001b[39m_os_type\n\u001b[1;32m     42\u001b[0m     \u001b[38;5;66;03m# For Mac ARM CPUs after version 106.0.5249.61 the format of OS type changed\u001b[39;00m\n\u001b[1;32m     43\u001b[0m     \u001b[38;5;66;03m# to more unified \"mac_arm64\". For newer versions, it'll be \"mac_arm64\"\u001b[39;00m\n\u001b[1;32m     44\u001b[0m     \u001b[38;5;66;03m# by default, for lower versions we replace \"mac_arm64\" to old format - \"mac64_m1\".\u001b[39;00m\n",
      "File \u001b[0;32m~/miniconda3/envs/deliveroo/lib/python3.10/site-packages/webdriver_manager/core/driver.py:51\u001b[0m, in \u001b[0;36mDriver.get_driver_version_to_download\u001b[0;34m(self)\u001b[0m\n\u001b[1;32m     45\u001b[0m \u001b[38;5;250m\u001b[39m\u001b[38;5;124;03m\"\"\"\u001b[39;00m\n\u001b[1;32m     46\u001b[0m \u001b[38;5;124;03mDownloads version from parameter if version not None or \"latest\".\u001b[39;00m\n\u001b[1;32m     47\u001b[0m \u001b[38;5;124;03mDownloads latest, if version is \"latest\" or browser could not been determined.\u001b[39;00m\n\u001b[1;32m     48\u001b[0m \u001b[38;5;124;03mDownloads determined browser version driver in all other ways as a bonus fallback for lazy users.\u001b[39;00m\n\u001b[1;32m     49\u001b[0m \u001b[38;5;124;03m\"\"\"\u001b[39;00m\n\u001b[1;32m     50\u001b[0m \u001b[38;5;28;01mif\u001b[39;00m \u001b[38;5;129;01mnot\u001b[39;00m \u001b[38;5;28mself\u001b[39m\u001b[38;5;241m.\u001b[39m_driver_to_download_version:\n\u001b[0;32m---> 51\u001b[0m     \u001b[38;5;28mself\u001b[39m\u001b[38;5;241m.\u001b[39m_driver_to_download_version \u001b[38;5;241m=\u001b[39m \u001b[38;5;28mself\u001b[39m\u001b[38;5;241m.\u001b[39m_version \u001b[38;5;28;01mif\u001b[39;00m \u001b[38;5;28mself\u001b[39m\u001b[38;5;241m.\u001b[39m_version \u001b[38;5;129;01mnot\u001b[39;00m \u001b[38;5;129;01min\u001b[39;00m (\u001b[38;5;28;01mNone\u001b[39;00m, \u001b[38;5;124m\"\u001b[39m\u001b[38;5;124mlatest\u001b[39m\u001b[38;5;124m\"\u001b[39m) \u001b[38;5;28;01melse\u001b[39;00m \u001b[38;5;28;43mself\u001b[39;49m\u001b[38;5;241;43m.\u001b[39;49m\u001b[43mget_latest_release_version\u001b[49m\u001b[43m(\u001b[49m\u001b[43m)\u001b[49m\n\u001b[1;32m     52\u001b[0m \u001b[38;5;28;01mreturn\u001b[39;00m \u001b[38;5;28mself\u001b[39m\u001b[38;5;241m.\u001b[39m_driver_to_download_version\n",
      "File \u001b[0;32m~/miniconda3/envs/deliveroo/lib/python3.10/site-packages/webdriver_manager/drivers/chrome.py:62\u001b[0m, in \u001b[0;36mChromeDriver.get_latest_release_version\u001b[0;34m(self)\u001b[0m\n\u001b[1;32m     56\u001b[0m log(\u001b[38;5;124mf\u001b[39m\u001b[38;5;124m\"\u001b[39m\u001b[38;5;124mGet LATEST \u001b[39m\u001b[38;5;132;01m{\u001b[39;00m\u001b[38;5;28mself\u001b[39m\u001b[38;5;241m.\u001b[39m_name\u001b[38;5;132;01m}\u001b[39;00m\u001b[38;5;124m version for \u001b[39m\u001b[38;5;132;01m{\u001b[39;00m\u001b[38;5;28mself\u001b[39m\u001b[38;5;241m.\u001b[39m_browser_type\u001b[38;5;132;01m}\u001b[39;00m\u001b[38;5;124m\"\u001b[39m)\n\u001b[1;32m     57\u001b[0m latest_release_url \u001b[38;5;241m=\u001b[39m (\n\u001b[1;32m     58\u001b[0m     \u001b[38;5;28mself\u001b[39m\u001b[38;5;241m.\u001b[39m_latest_release_url\n\u001b[1;32m     59\u001b[0m     \u001b[38;5;28;01mif\u001b[39;00m (\u001b[38;5;28mself\u001b[39m\u001b[38;5;241m.\u001b[39m_version \u001b[38;5;241m==\u001b[39m \u001b[38;5;124m\"\u001b[39m\u001b[38;5;124mlatest\u001b[39m\u001b[38;5;124m\"\u001b[39m \u001b[38;5;129;01mor\u001b[39;00m determined_browser_version \u001b[38;5;129;01mis\u001b[39;00m \u001b[38;5;28;01mNone\u001b[39;00m)\n\u001b[1;32m     60\u001b[0m     \u001b[38;5;28;01melse\u001b[39;00m \u001b[38;5;124mf\u001b[39m\u001b[38;5;124m\"\u001b[39m\u001b[38;5;132;01m{\u001b[39;00m\u001b[38;5;28mself\u001b[39m\u001b[38;5;241m.\u001b[39m_latest_release_url\u001b[38;5;132;01m}\u001b[39;00m\u001b[38;5;124m_\u001b[39m\u001b[38;5;132;01m{\u001b[39;00mdetermined_browser_version\u001b[38;5;132;01m}\u001b[39;00m\u001b[38;5;124m\"\u001b[39m\n\u001b[1;32m     61\u001b[0m )\n\u001b[0;32m---> 62\u001b[0m resp \u001b[38;5;241m=\u001b[39m \u001b[38;5;28;43mself\u001b[39;49m\u001b[38;5;241;43m.\u001b[39;49m\u001b[43m_http_client\u001b[49m\u001b[38;5;241;43m.\u001b[39;49m\u001b[43mget\u001b[49m\u001b[43m(\u001b[49m\u001b[43murl\u001b[49m\u001b[38;5;241;43m=\u001b[39;49m\u001b[43mlatest_release_url\u001b[49m\u001b[43m)\u001b[49m\n\u001b[1;32m     63\u001b[0m \u001b[38;5;28;01mreturn\u001b[39;00m resp\u001b[38;5;241m.\u001b[39mtext\u001b[38;5;241m.\u001b[39mrstrip()\n",
      "File \u001b[0;32m~/miniconda3/envs/deliveroo/lib/python3.10/site-packages/webdriver_manager/core/http.py:37\u001b[0m, in \u001b[0;36mWDMHttpClient.get\u001b[0;34m(self, url, **kwargs)\u001b[0m\n\u001b[1;32m     35\u001b[0m \u001b[38;5;28;01mexcept\u001b[39;00m exceptions\u001b[38;5;241m.\u001b[39mConnectionError:\n\u001b[1;32m     36\u001b[0m     \u001b[38;5;28;01mraise\u001b[39;00m \u001b[38;5;167;01mConnectionError\u001b[39;00m(\u001b[38;5;124mf\u001b[39m\u001b[38;5;124m\"\u001b[39m\u001b[38;5;124mCould not reach host. Are you offline?\u001b[39m\u001b[38;5;124m\"\u001b[39m)\n\u001b[0;32m---> 37\u001b[0m \u001b[38;5;28;43mself\u001b[39;49m\u001b[38;5;241;43m.\u001b[39;49m\u001b[43mvalidate_response\u001b[49m\u001b[43m(\u001b[49m\u001b[43mresp\u001b[49m\u001b[43m)\u001b[49m\n\u001b[1;32m     38\u001b[0m \u001b[38;5;28;01mif\u001b[39;00m wdm_progress_bar():\n\u001b[1;32m     39\u001b[0m     show_download_progress(resp)\n",
      "File \u001b[0;32m~/miniconda3/envs/deliveroo/lib/python3.10/site-packages/webdriver_manager/core/http.py:16\u001b[0m, in \u001b[0;36mHttpClient.validate_response\u001b[0;34m(resp)\u001b[0m\n\u001b[1;32m     14\u001b[0m status_code \u001b[38;5;241m=\u001b[39m resp\u001b[38;5;241m.\u001b[39mstatus_code\n\u001b[1;32m     15\u001b[0m \u001b[38;5;28;01mif\u001b[39;00m status_code \u001b[38;5;241m==\u001b[39m \u001b[38;5;241m404\u001b[39m:\n\u001b[0;32m---> 16\u001b[0m     \u001b[38;5;28;01mraise\u001b[39;00m \u001b[38;5;167;01mValueError\u001b[39;00m(\u001b[38;5;124mf\u001b[39m\u001b[38;5;124m\"\u001b[39m\u001b[38;5;124mThere is no such driver by url \u001b[39m\u001b[38;5;132;01m{\u001b[39;00mresp\u001b[38;5;241m.\u001b[39murl\u001b[38;5;132;01m}\u001b[39;00m\u001b[38;5;124m\"\u001b[39m)\n\u001b[1;32m     17\u001b[0m \u001b[38;5;28;01melif\u001b[39;00m status_code \u001b[38;5;241m==\u001b[39m \u001b[38;5;241m401\u001b[39m:\n\u001b[1;32m     18\u001b[0m     \u001b[38;5;28;01mraise\u001b[39;00m \u001b[38;5;167;01mValueError\u001b[39;00m(\u001b[38;5;124mf\u001b[39m\u001b[38;5;124m\"\u001b[39m\u001b[38;5;124mAPI Rate limit exceeded. You have to add GH_TOKEN!!!\u001b[39m\u001b[38;5;124m\"\u001b[39m)\n",
      "\u001b[0;31mValueError\u001b[0m: There is no such driver by url https://chromedriver.storage.googleapis.com/LATEST_RELEASE_115.0.5790"
     ]
    }
   ],
   "source": [
    "#| export\n",
    "service = Service(executable_path=ChromeDriverManager().install())"
   ]
  },
  {
   "cell_type": "code",
   "execution_count": null,
   "id": "056245b7-6c20-420e-a28e-0e07f4082313",
   "metadata": {},
   "outputs": [
    {
     "name": "stdout",
     "output_type": "stream",
     "text": [
      "Found existing installation: webdriver-manager 3.8.6\n",
      "Uninstalling webdriver-manager-3.8.6:\n",
      "  Would remove:\n",
      "    /Users/seangreaves/miniconda3/envs/deliveroo/lib/python3.10/site-packages/tests_negative/*\n",
      "    /Users/seangreaves/miniconda3/envs/deliveroo/lib/python3.10/site-packages/tests_xdist/*\n",
      "    /Users/seangreaves/miniconda3/envs/deliveroo/lib/python3.10/site-packages/webdriver_manager-3.8.6.dist-info/*\n",
      "    /Users/seangreaves/miniconda3/envs/deliveroo/lib/python3.10/site-packages/webdriver_manager/*\n",
      "Proceed (Y/n)? ^C\n",
      "\u001b[31mERROR: Operation cancelled by user\u001b[0m\u001b[31m\n",
      "\u001b[0m"
     ]
    }
   ],
   "source": [
    "!pip uninstall webdriver_manager"
   ]
  },
  {
   "cell_type": "code",
   "execution_count": null,
   "id": "3419ab92-84d1-4b8f-933a-13540bcb8709",
   "metadata": {},
   "outputs": [],
   "source": [
    "#| export\n",
    "assert service"
   ]
  },
  {
   "cell_type": "code",
   "execution_count": null,
   "id": "1f4b5953-3c71-4dc6-a6cb-62ce6f231f9f",
   "metadata": {},
   "outputs": [
    {
     "name": "stderr",
     "output_type": "stream",
     "text": [
      "/var/folders/hd/5f7tv_ld72b4c26jw6p9t8bh0000gn/T/ipykernel_1641/2894708726.py:6: DeprecationWarning: headless property is deprecated, instead use add_argument('--headless') or add_argument('--headless=new')\n",
      "  options.headless = headless\n"
     ]
    }
   ],
   "source": [
    "#| export\n",
    "def initialise_driver(service, # Instance of `selenium.webdriver.chrome.service.Service`\n",
    "                      headless:bool=False): # Set browser to run headless [False] or visble [True]\n",
    "    \"Initialises Chrome WebDriver\"\n",
    "    options = Options()\n",
    "    options.headless = headless\n",
    "    return webdriver.Chrome(service=service, options=options) \n",
    "\n",
    "driver = initialise_driver(service, True)"
   ]
  },
  {
   "cell_type": "code",
   "execution_count": null,
   "id": "8c62f91f-dd9e-4b20-aa6b-299705cd19e4",
   "metadata": {},
   "outputs": [],
   "source": [
    "#| export\n",
    "assert driver"
   ]
  },
  {
   "cell_type": "markdown",
   "id": "42fbec34-72cb-421c-bd38-6c95b6e48ccf",
   "metadata": {},
   "source": [
    "Lets go ahead an start driving a Chrome Browser. We will set headless to `True` so we won't be able to see the browser. You can set `headless=False` if you'd like to view the browser."
   ]
  },
  {
   "cell_type": "markdown",
   "id": "8aede485-b2b0-4d0a-a7d6-951f95e8c82b",
   "metadata": {},
   "source": [
    "We can now try access a webpage and get an HTML element."
   ]
  },
  {
   "cell_type": "code",
   "execution_count": null,
   "id": "208209cb-d9c6-4316-b177-2687d7c443c4",
   "metadata": {},
   "outputs": [],
   "source": [
    "#| export\n",
    "def get_element_by(url:str, # url to search for\n",
    "                       driver, # driver initialised with `initialise_driver`\n",
    "                       css_component:str=\"id\", # accepted values: `id`, `class_name`, `css_selector`\n",
    "                       css_component_value:str=\"\", # id of element to wait for when url page renders\n",
    "                       timeout:int=15, # seconds to wait for element to appear before timeout error\n",
    "                      ):\n",
    "                   \"Gets selenium web element that matches HTML element ID. Waits for element to load before user-defined timeout\"\n",
    "                   css_component_lookup = {\"id\": By.ID, \"css_selector\": By.CSS_SELECTOR, \"class_name\": By.CLASS_NAME}\n",
    "                   if not css_component_lookup[css_component]:\n",
    "                       print(\"Invalid css_component provided. Should be either 'id', 'class_name' or 'css_selector\")\n",
    "                       return\n",
    "                   driver.get(url)\n",
    "                   wait = WebDriverWait(driver, timeout)    \n",
    "                   filter_input = wait.until(EC.presence_of_element_located((css_component_lookup[css_component], css_component_value)))\n",
    "                   return filter_input"
   ]
  },
  {
   "cell_type": "markdown",
   "id": "987de3d4-9ecf-4542-bc40-942406ad4918",
   "metadata": {},
   "source": [
    "Lets attempt to grab the footer element from the Autonomy ADU homepage:"
   ]
  },
  {
   "cell_type": "code",
   "execution_count": null,
   "id": "0c6950f3-8228-46ab-8adb-fe1738f61d93",
   "metadata": {},
   "outputs": [],
   "source": [
    "base_url = \"https://autonomy.work/adu/\"\n",
    "filter_input = get_element_by(base_url, driver, 'id', 'footer')"
   ]
  },
  {
   "cell_type": "code",
   "execution_count": null,
   "id": "f5bf71a2-d70b-496f-9825-e06fc52ec923",
   "metadata": {},
   "outputs": [],
   "source": [
    "assert filter_input"
   ]
  },
  {
   "cell_type": "code",
   "execution_count": null,
   "id": "ea5ec716-57cf-4cae-9258-8b68dba50bb0",
   "metadata": {},
   "outputs": [],
   "source": [
    "#| hide\n",
    "import nbdev; nbdev.nbdev_export()"
   ]
  }
 ],
 "metadata": {
  "kernelspec": {
   "display_name": "python3",
   "language": "python",
   "name": "python3"
  }
 },
 "nbformat": 4,
 "nbformat_minor": 5
}
