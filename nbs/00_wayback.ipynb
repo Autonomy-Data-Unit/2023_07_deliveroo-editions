{
 "cells": [
  {
   "cell_type": "markdown",
   "metadata": {},
   "source": [
    "# Wayback \n",
    "\n",
    "> In this example, we will scrape the historic Deliveroo pages archived by the Wayback Machine at the Internet Archive for pages that filter Deliveroo Editions facilities."
   ]
  },
  {
   "cell_type": "code",
   "execution_count": null,
   "metadata": {},
   "outputs": [],
   "source": [
    "#| default_exp wayback"
   ]
  },
  {
   "cell_type": "code",
   "execution_count": null,
   "metadata": {},
   "outputs": [
    {
     "ename": "ValueError",
     "evalue": "There is no such driver by url https://chromedriver.storage.googleapis.com/LATEST_RELEASE_115.0.5790",
     "output_type": "error",
     "traceback": [
      "\u001b[0;31m---------------------------------------------------------------------------\u001b[0m",
      "\u001b[0;31mValueError\u001b[0m                                Traceback (most recent call last)",
      "Cell \u001b[0;32mIn[1], line 7\u001b[0m\n\u001b[1;32m      5\u001b[0m \u001b[38;5;28;01mimport\u001b[39;00m \u001b[38;5;21;01mrequests\u001b[39;00m\n\u001b[1;32m      6\u001b[0m \u001b[38;5;28;01mfrom\u001b[39;00m \u001b[38;5;21;01mbs4\u001b[39;00m \u001b[38;5;28;01mimport\u001b[39;00m BeautifulSoup\n\u001b[0;32m----> 7\u001b[0m \u001b[38;5;28;01mfrom\u001b[39;00m \u001b[38;5;21;01mdeliveroo_editions\u001b[39;00m\u001b[38;5;21;01m.\u001b[39;00m\u001b[38;5;21;01mselenium_utils\u001b[39;00m \u001b[38;5;28;01mimport\u001b[39;00m \u001b[38;5;241m*\u001b[39m\n\u001b[1;32m      8\u001b[0m \u001b[38;5;28;01mfrom\u001b[39;00m \u001b[38;5;21;01mdeliveroo_editions\u001b[39;00m\u001b[38;5;21;01m.\u001b[39;00m\u001b[38;5;21;01mdeliveroo_utils\u001b[39;00m \u001b[38;5;28;01mimport\u001b[39;00m \u001b[38;5;241m*\u001b[39m\n\u001b[1;32m      9\u001b[0m \u001b[38;5;28;01mfrom\u001b[39;00m \u001b[38;5;21;01mselenium\u001b[39;00m\u001b[38;5;21;01m.\u001b[39;00m\u001b[38;5;21;01mwebdriver\u001b[39;00m\u001b[38;5;21;01m.\u001b[39;00m\u001b[38;5;21;01mcommon\u001b[39;00m\u001b[38;5;21;01m.\u001b[39;00m\u001b[38;5;21;01mby\u001b[39;00m \u001b[38;5;28;01mimport\u001b[39;00m By\n",
      "File \u001b[0;32m~/Developer/deliveroo-editions/deliveroo_editions/selenium_utils.py:21\u001b[0m\n\u001b[1;32m     16\u001b[0m headers \u001b[38;5;241m=\u001b[39m {\n\u001b[1;32m     17\u001b[0m     \u001b[38;5;124m\"\u001b[39m\u001b[38;5;124mUser-Agent\u001b[39m\u001b[38;5;124m\"\u001b[39m: \u001b[38;5;124m\"\u001b[39m\u001b[38;5;124mMozilla/5.0 (Windows NT 10.0; Win64; x64) AppleWebKit/537.36 (KHTML, like Gecko) Chrome/71.0.3578.98 Safari/537.36\u001b[39m\u001b[38;5;124m\"\u001b[39m\n\u001b[1;32m     18\u001b[0m }\n\u001b[1;32m     20\u001b[0m \u001b[38;5;66;03m# %% ../nbs/selenium_utils.ipynb 6\u001b[39;00m\n\u001b[0;32m---> 21\u001b[0m service \u001b[38;5;241m=\u001b[39m Service(executable_path\u001b[38;5;241m=\u001b[39m\u001b[43mChromeDriverManager\u001b[49m\u001b[43m(\u001b[49m\u001b[43m)\u001b[49m\u001b[38;5;241;43m.\u001b[39;49m\u001b[43minstall\u001b[49m\u001b[43m(\u001b[49m\u001b[43m)\u001b[49m)\n\u001b[1;32m     23\u001b[0m \u001b[38;5;66;03m# %% ../nbs/selenium_utils.ipynb 7\u001b[39;00m\n\u001b[1;32m     24\u001b[0m \u001b[38;5;28;01massert\u001b[39;00m service\n",
      "File \u001b[0;32m~/miniconda3/envs/deliveroo/lib/python3.10/site-packages/webdriver_manager/chrome.py:39\u001b[0m, in \u001b[0;36mChromeDriverManager.install\u001b[0;34m(self)\u001b[0m\n\u001b[1;32m     38\u001b[0m \u001b[38;5;28;01mdef\u001b[39;00m \u001b[38;5;21minstall\u001b[39m(\u001b[38;5;28mself\u001b[39m) \u001b[38;5;241m-\u001b[39m\u001b[38;5;241m>\u001b[39m \u001b[38;5;28mstr\u001b[39m:\n\u001b[0;32m---> 39\u001b[0m     driver_path \u001b[38;5;241m=\u001b[39m \u001b[38;5;28;43mself\u001b[39;49m\u001b[38;5;241;43m.\u001b[39;49m\u001b[43m_get_driver_path\u001b[49m\u001b[43m(\u001b[49m\u001b[38;5;28;43mself\u001b[39;49m\u001b[38;5;241;43m.\u001b[39;49m\u001b[43mdriver\u001b[49m\u001b[43m)\u001b[49m\n\u001b[1;32m     40\u001b[0m     os\u001b[38;5;241m.\u001b[39mchmod(driver_path, \u001b[38;5;241m0o755\u001b[39m)\n\u001b[1;32m     41\u001b[0m     \u001b[38;5;28;01mreturn\u001b[39;00m driver_path\n",
      "File \u001b[0;32m~/miniconda3/envs/deliveroo/lib/python3.10/site-packages/webdriver_manager/core/manager.py:30\u001b[0m, in \u001b[0;36mDriverManager._get_driver_path\u001b[0;34m(self, driver)\u001b[0m\n\u001b[1;32m     27\u001b[0m \u001b[38;5;28;01mif\u001b[39;00m binary_path:\n\u001b[1;32m     28\u001b[0m     \u001b[38;5;28;01mreturn\u001b[39;00m binary_path\n\u001b[0;32m---> 30\u001b[0m file \u001b[38;5;241m=\u001b[39m \u001b[38;5;28mself\u001b[39m\u001b[38;5;241m.\u001b[39m_download_manager\u001b[38;5;241m.\u001b[39mdownload_file(\u001b[43mdriver\u001b[49m\u001b[38;5;241;43m.\u001b[39;49m\u001b[43mget_driver_download_url\u001b[49m\u001b[43m(\u001b[49m\u001b[43m)\u001b[49m)\n\u001b[1;32m     31\u001b[0m binary_path \u001b[38;5;241m=\u001b[39m \u001b[38;5;28mself\u001b[39m\u001b[38;5;241m.\u001b[39mdriver_cache\u001b[38;5;241m.\u001b[39msave_file_to_cache(driver, file)\n\u001b[1;32m     32\u001b[0m \u001b[38;5;28;01mreturn\u001b[39;00m binary_path\n",
      "File \u001b[0;32m~/miniconda3/envs/deliveroo/lib/python3.10/site-packages/webdriver_manager/drivers/chrome.py:40\u001b[0m, in \u001b[0;36mChromeDriver.get_driver_download_url\u001b[0;34m(self)\u001b[0m\n\u001b[1;32m     39\u001b[0m \u001b[38;5;28;01mdef\u001b[39;00m \u001b[38;5;21mget_driver_download_url\u001b[39m(\u001b[38;5;28mself\u001b[39m):\n\u001b[0;32m---> 40\u001b[0m     driver_version_to_download \u001b[38;5;241m=\u001b[39m \u001b[38;5;28;43mself\u001b[39;49m\u001b[38;5;241;43m.\u001b[39;49m\u001b[43mget_driver_version_to_download\u001b[49m\u001b[43m(\u001b[49m\u001b[43m)\u001b[49m\n\u001b[1;32m     41\u001b[0m     os_type \u001b[38;5;241m=\u001b[39m \u001b[38;5;28mself\u001b[39m\u001b[38;5;241m.\u001b[39m_os_type\n\u001b[1;32m     42\u001b[0m     \u001b[38;5;66;03m# For Mac ARM CPUs after version 106.0.5249.61 the format of OS type changed\u001b[39;00m\n\u001b[1;32m     43\u001b[0m     \u001b[38;5;66;03m# to more unified \"mac_arm64\". For newer versions, it'll be \"mac_arm64\"\u001b[39;00m\n\u001b[1;32m     44\u001b[0m     \u001b[38;5;66;03m# by default, for lower versions we replace \"mac_arm64\" to old format - \"mac64_m1\".\u001b[39;00m\n",
      "File \u001b[0;32m~/miniconda3/envs/deliveroo/lib/python3.10/site-packages/webdriver_manager/core/driver.py:51\u001b[0m, in \u001b[0;36mDriver.get_driver_version_to_download\u001b[0;34m(self)\u001b[0m\n\u001b[1;32m     45\u001b[0m \u001b[38;5;250m\u001b[39m\u001b[38;5;124;03m\"\"\"\u001b[39;00m\n\u001b[1;32m     46\u001b[0m \u001b[38;5;124;03mDownloads version from parameter if version not None or \"latest\".\u001b[39;00m\n\u001b[1;32m     47\u001b[0m \u001b[38;5;124;03mDownloads latest, if version is \"latest\" or browser could not been determined.\u001b[39;00m\n\u001b[1;32m     48\u001b[0m \u001b[38;5;124;03mDownloads determined browser version driver in all other ways as a bonus fallback for lazy users.\u001b[39;00m\n\u001b[1;32m     49\u001b[0m \u001b[38;5;124;03m\"\"\"\u001b[39;00m\n\u001b[1;32m     50\u001b[0m \u001b[38;5;28;01mif\u001b[39;00m \u001b[38;5;129;01mnot\u001b[39;00m \u001b[38;5;28mself\u001b[39m\u001b[38;5;241m.\u001b[39m_driver_to_download_version:\n\u001b[0;32m---> 51\u001b[0m     \u001b[38;5;28mself\u001b[39m\u001b[38;5;241m.\u001b[39m_driver_to_download_version \u001b[38;5;241m=\u001b[39m \u001b[38;5;28mself\u001b[39m\u001b[38;5;241m.\u001b[39m_version \u001b[38;5;28;01mif\u001b[39;00m \u001b[38;5;28mself\u001b[39m\u001b[38;5;241m.\u001b[39m_version \u001b[38;5;129;01mnot\u001b[39;00m \u001b[38;5;129;01min\u001b[39;00m (\u001b[38;5;28;01mNone\u001b[39;00m, \u001b[38;5;124m\"\u001b[39m\u001b[38;5;124mlatest\u001b[39m\u001b[38;5;124m\"\u001b[39m) \u001b[38;5;28;01melse\u001b[39;00m \u001b[38;5;28;43mself\u001b[39;49m\u001b[38;5;241;43m.\u001b[39;49m\u001b[43mget_latest_release_version\u001b[49m\u001b[43m(\u001b[49m\u001b[43m)\u001b[49m\n\u001b[1;32m     52\u001b[0m \u001b[38;5;28;01mreturn\u001b[39;00m \u001b[38;5;28mself\u001b[39m\u001b[38;5;241m.\u001b[39m_driver_to_download_version\n",
      "File \u001b[0;32m~/miniconda3/envs/deliveroo/lib/python3.10/site-packages/webdriver_manager/drivers/chrome.py:62\u001b[0m, in \u001b[0;36mChromeDriver.get_latest_release_version\u001b[0;34m(self)\u001b[0m\n\u001b[1;32m     56\u001b[0m log(\u001b[38;5;124mf\u001b[39m\u001b[38;5;124m\"\u001b[39m\u001b[38;5;124mGet LATEST \u001b[39m\u001b[38;5;132;01m{\u001b[39;00m\u001b[38;5;28mself\u001b[39m\u001b[38;5;241m.\u001b[39m_name\u001b[38;5;132;01m}\u001b[39;00m\u001b[38;5;124m version for \u001b[39m\u001b[38;5;132;01m{\u001b[39;00m\u001b[38;5;28mself\u001b[39m\u001b[38;5;241m.\u001b[39m_browser_type\u001b[38;5;132;01m}\u001b[39;00m\u001b[38;5;124m\"\u001b[39m)\n\u001b[1;32m     57\u001b[0m latest_release_url \u001b[38;5;241m=\u001b[39m (\n\u001b[1;32m     58\u001b[0m     \u001b[38;5;28mself\u001b[39m\u001b[38;5;241m.\u001b[39m_latest_release_url\n\u001b[1;32m     59\u001b[0m     \u001b[38;5;28;01mif\u001b[39;00m (\u001b[38;5;28mself\u001b[39m\u001b[38;5;241m.\u001b[39m_version \u001b[38;5;241m==\u001b[39m \u001b[38;5;124m\"\u001b[39m\u001b[38;5;124mlatest\u001b[39m\u001b[38;5;124m\"\u001b[39m \u001b[38;5;129;01mor\u001b[39;00m determined_browser_version \u001b[38;5;129;01mis\u001b[39;00m \u001b[38;5;28;01mNone\u001b[39;00m)\n\u001b[1;32m     60\u001b[0m     \u001b[38;5;28;01melse\u001b[39;00m \u001b[38;5;124mf\u001b[39m\u001b[38;5;124m\"\u001b[39m\u001b[38;5;132;01m{\u001b[39;00m\u001b[38;5;28mself\u001b[39m\u001b[38;5;241m.\u001b[39m_latest_release_url\u001b[38;5;132;01m}\u001b[39;00m\u001b[38;5;124m_\u001b[39m\u001b[38;5;132;01m{\u001b[39;00mdetermined_browser_version\u001b[38;5;132;01m}\u001b[39;00m\u001b[38;5;124m\"\u001b[39m\n\u001b[1;32m     61\u001b[0m )\n\u001b[0;32m---> 62\u001b[0m resp \u001b[38;5;241m=\u001b[39m \u001b[38;5;28;43mself\u001b[39;49m\u001b[38;5;241;43m.\u001b[39;49m\u001b[43m_http_client\u001b[49m\u001b[38;5;241;43m.\u001b[39;49m\u001b[43mget\u001b[49m\u001b[43m(\u001b[49m\u001b[43murl\u001b[49m\u001b[38;5;241;43m=\u001b[39;49m\u001b[43mlatest_release_url\u001b[49m\u001b[43m)\u001b[49m\n\u001b[1;32m     63\u001b[0m \u001b[38;5;28;01mreturn\u001b[39;00m resp\u001b[38;5;241m.\u001b[39mtext\u001b[38;5;241m.\u001b[39mrstrip()\n",
      "File \u001b[0;32m~/miniconda3/envs/deliveroo/lib/python3.10/site-packages/webdriver_manager/core/http.py:37\u001b[0m, in \u001b[0;36mWDMHttpClient.get\u001b[0;34m(self, url, **kwargs)\u001b[0m\n\u001b[1;32m     35\u001b[0m \u001b[38;5;28;01mexcept\u001b[39;00m exceptions\u001b[38;5;241m.\u001b[39mConnectionError:\n\u001b[1;32m     36\u001b[0m     \u001b[38;5;28;01mraise\u001b[39;00m \u001b[38;5;167;01mConnectionError\u001b[39;00m(\u001b[38;5;124mf\u001b[39m\u001b[38;5;124m\"\u001b[39m\u001b[38;5;124mCould not reach host. Are you offline?\u001b[39m\u001b[38;5;124m\"\u001b[39m)\n\u001b[0;32m---> 37\u001b[0m \u001b[38;5;28;43mself\u001b[39;49m\u001b[38;5;241;43m.\u001b[39;49m\u001b[43mvalidate_response\u001b[49m\u001b[43m(\u001b[49m\u001b[43mresp\u001b[49m\u001b[43m)\u001b[49m\n\u001b[1;32m     38\u001b[0m \u001b[38;5;28;01mif\u001b[39;00m wdm_progress_bar():\n\u001b[1;32m     39\u001b[0m     show_download_progress(resp)\n",
      "File \u001b[0;32m~/miniconda3/envs/deliveroo/lib/python3.10/site-packages/webdriver_manager/core/http.py:16\u001b[0m, in \u001b[0;36mHttpClient.validate_response\u001b[0;34m(resp)\u001b[0m\n\u001b[1;32m     14\u001b[0m status_code \u001b[38;5;241m=\u001b[39m resp\u001b[38;5;241m.\u001b[39mstatus_code\n\u001b[1;32m     15\u001b[0m \u001b[38;5;28;01mif\u001b[39;00m status_code \u001b[38;5;241m==\u001b[39m \u001b[38;5;241m404\u001b[39m:\n\u001b[0;32m---> 16\u001b[0m     \u001b[38;5;28;01mraise\u001b[39;00m \u001b[38;5;167;01mValueError\u001b[39;00m(\u001b[38;5;124mf\u001b[39m\u001b[38;5;124m\"\u001b[39m\u001b[38;5;124mThere is no such driver by url \u001b[39m\u001b[38;5;132;01m{\u001b[39;00mresp\u001b[38;5;241m.\u001b[39murl\u001b[38;5;132;01m}\u001b[39;00m\u001b[38;5;124m\"\u001b[39m)\n\u001b[1;32m     17\u001b[0m \u001b[38;5;28;01melif\u001b[39;00m status_code \u001b[38;5;241m==\u001b[39m \u001b[38;5;241m401\u001b[39m:\n\u001b[1;32m     18\u001b[0m     \u001b[38;5;28;01mraise\u001b[39;00m \u001b[38;5;167;01mValueError\u001b[39;00m(\u001b[38;5;124mf\u001b[39m\u001b[38;5;124m\"\u001b[39m\u001b[38;5;124mAPI Rate limit exceeded. You have to add GH_TOKEN!!!\u001b[39m\u001b[38;5;124m\"\u001b[39m)\n",
      "\u001b[0;31mValueError\u001b[0m: There is no such driver by url https://chromedriver.storage.googleapis.com/LATEST_RELEASE_115.0.5790"
     ]
    }
   ],
   "source": [
    "#| hide\n",
    "import time\n",
    "import pandas as pd\n",
    "from nbdev.showdoc import *\n",
    "import requests\n",
    "from bs4 import BeautifulSoup\n",
    "from deliveroo_editions.selenium_utils import *\n",
    "from deliveroo_editions.deliveroo_utils import *\n",
    "from selenium.webdriver.common.by import By\n",
    "from selenium import webdriver\n",
    "from selenium.webdriver.chrome.service import Service\n",
    "from webdriver_manager.chrome import ChromeDriverManager\n",
    "from selenium.webdriver.chrome.options import Options\n",
    "from selenium.webdriver.support.ui import WebDriverWait\n",
    "from selenium.webdriver.support import expected_conditions as EC\n",
    "from tqdm import tqdm"
   ]
  },
  {
   "cell_type": "markdown",
   "metadata": {},
   "source": [
    "The following URL searches the Internet Archive for all archived Deliveroo webpages, including search results. With selenium, we can visit this page and filter the results to get all the URLs containing the \"deliveroo+editions\" filter by adding this text to an input HTML element on the Internet Archive site:"
   ]
  },
  {
   "cell_type": "code",
   "execution_count": null,
   "metadata": {},
   "outputs": [],
   "source": [
    "base_url = \"https://web.archive.org/web/*/https://deliveroo.co.uk/restaurants/*\""
   ]
  },
  {
   "cell_type": "markdown",
   "metadata": {},
   "source": [
    "Lets go ahead an start driving a Chrome Browser. We will set headless to `True` so we won't be able to see the browser. You can set `headless=False` if you'd like to view the browser."
   ]
  },
  {
   "cell_type": "code",
   "execution_count": null,
   "metadata": {},
   "outputs": [],
   "source": [
    "driver = initialise_driver(service, True)"
   ]
  },
  {
   "cell_type": "code",
   "execution_count": null,
   "metadata": {},
   "outputs": [],
   "source": [
    "driver.get(base_url)\n",
    "wait = WebDriverWait(driver, 20)    \n",
    "filter_input = wait.until(EC.presence_of_element_located((By.ID, 'resultsUrl_filter')))"
   ]
  },
  {
   "cell_type": "markdown",
   "metadata": {},
   "source": [
    "If the function didn't return an error then we know the element successfully loaded. Now we'd like to interact with a child of the `resultsUrl_filter` element and submit the `deliveroo+editions` filter to get the relevant results: "
   ]
  },
  {
   "cell_type": "code",
   "execution_count": null,
   "metadata": {},
   "outputs": [],
   "source": [
    "input_element = filter_input.find_element(By.TAG_NAME, 'input')\n",
    "input_element.clear()\n",
    "input_element.send_keys('deliveroo+editions')\n",
    "time.sleep(1)"
   ]
  },
  {
   "cell_type": "markdown",
   "metadata": {},
   "source": [
    "Lets now grab all the results from the table:"
   ]
  },
  {
   "cell_type": "code",
   "execution_count": null,
   "metadata": {},
   "outputs": [],
   "source": [
    "editions_urls = []\n",
    "while not editions_urls: \n",
    "    table = driver.find_element(By.ID, 'resultsUrl')\n",
    "    cells = table.find_elements(By.CLASS_NAME, 'url')\n",
    "    editions_urls = []\n",
    "    for td in table.find_elements(By.CSS_SELECTOR, 'td.url'):\n",
    "        url = td.find_element(By.CSS_SELECTOR, 'a').get_attribute('href')\n",
    "        editions_urls.append(url)"
   ]
  },
  {
   "cell_type": "code",
   "execution_count": null,
   "metadata": {},
   "outputs": [],
   "source": [
    "# check that table results were scraped:\n",
    "assert editions_urls"
   ]
  },
  {
   "cell_type": "markdown",
   "metadata": {},
   "source": [
    "We can print all the archived Deliveroo search results filtering for editions: "
   ]
  },
  {
   "cell_type": "code",
   "execution_count": null,
   "metadata": {},
   "outputs": [],
   "source": [
    "editions_urls[0:10]"
   ]
  },
  {
   "cell_type": "markdown",
   "metadata": {},
   "source": [
    "### Get Captures\n",
    "\n",
    "For each of these historic URLs, we will now get all the captures for each. With these captures we can view versions of these webpages that have been captured over time and extract data from them. Let's try this with an example url:"
   ]
  },
  {
   "cell_type": "code",
   "execution_count": null,
   "metadata": {},
   "outputs": [],
   "source": [
    "editions_urls[5]"
   ]
  },
  {
   "cell_type": "markdown",
   "metadata": {},
   "source": [
    "Information on the number of captures including the first and last capture are included conveniently within an element with `class_name=captures-range-info`"
   ]
  },
  {
   "cell_type": "code",
   "execution_count": null,
   "metadata": {},
   "outputs": [],
   "source": [
    "driver.get(editions_urls[5])\n",
    "wait = WebDriverWait(driver, 20)    \n",
    "range_info = wait.until(EC.presence_of_element_located((By.CLASS_NAME, \"captures-range-info\")))"
   ]
  },
  {
   "cell_type": "code",
   "execution_count": null,
   "metadata": {},
   "outputs": [],
   "source": [
    "assert range_info"
   ]
  },
  {
   "cell_type": "code",
   "execution_count": null,
   "metadata": {},
   "outputs": [],
   "source": [
    "range_info.text"
   ]
  },
  {
   "cell_type": "markdown",
   "metadata": {},
   "source": [
    "We can see that there are captures between 2020 and 2021. Lets extract these years programmatically: "
   ]
  },
  {
   "cell_type": "code",
   "execution_count": null,
   "metadata": {},
   "outputs": [],
   "source": [
    "editions_urls[5]"
   ]
  },
  {
   "cell_type": "code",
   "execution_count": null,
   "metadata": {},
   "outputs": [],
   "source": [
    "def get_range_info(url:str,  # Wayback calendar view URL\n",
    "                  ):\n",
    "    \"Returns the range of years for which url captures exist.\"\n",
    "    driver = initialise_driver(service,True)\n",
    "    driver.get(url)\n",
    "    wait = WebDriverWait(driver, 10)    \n",
    "    range_info = wait.until(EC.presence_of_element_located((By.CLASS_NAME, \"captures-range-info\")))\n",
    "    capture_links = range_info.find_elements(By.CSS_SELECTOR, 'a')\n",
    "    oldest_capture = capture_links[0].get_attribute('href')\n",
    "    latest_capture = capture_links[1].get_attribute('href') \n",
    "    start_timestamp = oldest_capture.split('/')[4]\n",
    "    end_timestamp = latest_capture.split('/')[4]   \n",
    "    start_year = start_timestamp[:4]\n",
    "    end_year = end_timestamp[:4]\n",
    "    return start_year, end_year, driver\n",
    "\n",
    "start_year, end_year, driver = get_range_info(editions_urls[5])\n",
    "print(f\"Captures between {start_year} and {end_year}.\")"
   ]
  },
  {
   "cell_type": "code",
   "execution_count": null,
   "metadata": {},
   "outputs": [],
   "source": [
    "assert start_year == \"2020\"\n",
    "assert end_year == \"2021\""
   ]
  },
  {
   "cell_type": "markdown",
   "metadata": {},
   "source": [
    "Now we want to get every capture between these years from the calendar UI. To access the html with captures for a given year, we need to find the clickable element representing that year with `class=sparkline-year-label` and click on this element to load the html. "
   ]
  },
  {
   "cell_type": "code",
   "execution_count": null,
   "metadata": {},
   "outputs": [],
   "source": [
    "year = start_year\n",
    "year_selector = driver.find_element(By.XPATH, f'//*[contains(@class, \"sparkline-year-label\") and text()=\"{year}\"]')\n",
    "assert year_selector"
   ]
  },
  {
   "cell_type": "code",
   "execution_count": null,
   "metadata": {},
   "outputs": [],
   "source": [
    "year_selector.click()"
   ]
  },
  {
   "cell_type": "code",
   "execution_count": null,
   "metadata": {},
   "outputs": [],
   "source": [
    "wait = WebDriverWait(driver, 10) \n",
    "calendar = wait.until(EC.presence_of_element_located((By.CLASS_NAME, \"calendar-grid\")))"
   ]
  },
  {
   "cell_type": "code",
   "execution_count": null,
   "metadata": {},
   "outputs": [],
   "source": [
    "captures = calendar.find_elements(By.CSS_SELECTOR, 'a')\n",
    "capture_urls = []\n",
    "for capture in captures:\n",
    "    capture_urls.append(capture.get_attribute('href'))\n",
    "assert capture_urls"
   ]
  },
  {
   "cell_type": "markdown",
   "metadata": {},
   "source": [
    "We've now got all the URLs for a single year: "
   ]
  },
  {
   "cell_type": "code",
   "execution_count": null,
   "metadata": {},
   "outputs": [],
   "source": [
    "capture_urls"
   ]
  },
  {
   "cell_type": "markdown",
   "metadata": {},
   "source": [
    "Lets now get every capture for every year, for every url: "
   ]
  },
  {
   "cell_type": "markdown",
   "metadata": {},
   "source": [
    "We may encounter a slight hiccup for all editions_urls with only 1 capture as the url will take us to the capture page rather than the calendar view, therefore we should try to find \"capture-range-info\" and if not just add the url to our capture_urls:"
   ]
  },
  {
   "cell_type": "code",
   "execution_count": null,
   "metadata": {},
   "outputs": [],
   "source": [
    "capture_urls = []\n",
    "for i, url in enumerate(tqdm(editions_urls)):\n",
    "    if \"*\" in url: \n",
    "        attempts = 0\n",
    "        while attempts < 2: \n",
    "            try:\n",
    "                start_year, end_year, driver = get_range_info(url)\n",
    "                for year in range(int(start_year), int(end_year)+1):\n",
    "                    year_selector = driver.find_element(By.XPATH, f'//*[contains(@class, \"sparkline-year-label\") and text()=\"{year}\"]')\n",
    "                    year_selector.click()\n",
    "                    wait = WebDriverWait(driver, 10) \n",
    "                    calendar = wait.until(EC.presence_of_element_located((By.CLASS_NAME, \"calendar-grid\")))\n",
    "                    captures = calendar.find_elements(By.CSS_SELECTOR, 'a')\n",
    "                    for capture in captures:\n",
    "                        capture_urls.append(capture.get_attribute('href'))\n",
    "                        attempts = 2\n",
    "                        break\n",
    "            except Exception as e: \n",
    "                print(e)\n",
    "                attempts += 1\n",
    "                time.sleep(1)\n",
    "                print(url)\n",
    "    else:\n",
    "        capture_urls.append(url) "
   ]
  },
  {
   "cell_type": "code",
   "execution_count": null,
   "metadata": {},
   "outputs": [],
   "source": [
    "capture_urls"
   ]
  },
  {
   "cell_type": "markdown",
   "metadata": {},
   "source": [
    "We can save these urls to a file for access later:"
   ]
  },
  {
   "cell_type": "code",
   "execution_count": null,
   "metadata": {},
   "outputs": [],
   "source": [
    "import json\n",
    "\n",
    "# with open(\"data/capture_urls.json\", 'w') as f:\n",
    "#     json.dump(capture_urls, f) \n",
    "\n",
    "with open(\"data/capture_urls.json\", 'r') as f:\n",
    "    capture_urls = json.load(f)\n",
    "\n",
    "# print(capture_urls)"
   ]
  },
  {
   "cell_type": "markdown",
   "metadata": {},
   "source": [
    "For each of the captures, we would now like to visit the url and extract all restaurant information. On each URL, there is a grid of restaurants within a `<ul>` element containing the `HomeFeedGrid` substring within the class name. We want to first locate all the `<li>` elements within `<ul>` without any parent `<li>` elements as this will give us list items corresponding to each restuarant. For this we can use `get_restaurants`:"
   ]
  },
  {
   "cell_type": "code",
   "execution_count": null,
   "metadata": {},
   "outputs": [],
   "source": [
    "# driver= initialise_driver(service,True)\n",
    "url = capture_urls[0]\n",
    "filtered_tags = get_restaurant_tags(url)\n",
    "len(filtered_tags)"
   ]
  },
  {
   "cell_type": "markdown",
   "metadata": {},
   "source": [
    "If we check the number of `<li>` elements within `filtered_li_tags`, we should find it equates to the number of restuarants listed on the webpage. Next we want to iterate through these items, locating another unordered list element containing 3 list items (restuarant name, description and delivery details). The element may also contain a link to the restaurant's Deliveroo url. We can use `get_restaurants` to get both the tags from before and the metadata all in one step:"
   ]
  },
  {
   "cell_type": "code",
   "execution_count": null,
   "metadata": {},
   "outputs": [],
   "source": [
    "get_restaurants(url)"
   ]
  },
  {
   "cell_type": "markdown",
   "metadata": {},
   "source": [
    "Bringing it altogether, lets iterate through the capture urls getting the metadata for each restaurant in each capture. We also need to be careful of rate limits as Wayback limits us to [15 retrieval's per minute](https://en.wikipedia.org/wiki/Wayback_Machine#:~:text=Starting%20in%20October%202019%2C%20users,requests%20and%20retrievals%20per%20minute.) "
   ]
  },
  {
   "cell_type": "code",
   "execution_count": null,
   "metadata": {},
   "outputs": [],
   "source": [
    "editions = []\n",
    "driver = initialise_driver(service,True)\n",
    "retrievals = 0\n",
    "for i, capture in enumerate(tqdm(capture_urls)):\n",
    "    # API limit of 15 retrieval's per minute\n",
    "    attempts = 0\n",
    "    while attempts < 2:\n",
    "        try:\n",
    "            metadata = get_restaurants(capture, driver)\n",
    "            timestamped_metadata = add_timestamps_to_restaurants(metadata, capture)\n",
    "            editions += metadata\n",
    "            retrievals += 1\n",
    "            attempts = 2\n",
    "        except Exception as e:\n",
    "            print(e)\n",
    "            # reinitialise the driver if error:\n",
    "            driver.close()\n",
    "            driver = initialise_driver(service,True)\n",
    "            attempts += 1   "
   ]
  },
  {
   "cell_type": "code",
   "execution_count": null,
   "metadata": {},
   "outputs": [],
   "source": [
    "editions"
   ]
  },
  {
   "cell_type": "markdown",
   "metadata": {},
   "source": [
    "Lets now process the data such that `timestamp` and `timestamp_url` are grouped:"
   ]
  },
  {
   "cell_type": "code",
   "execution_count": null,
   "metadata": {},
   "outputs": [],
   "source": [
    "editions_list = []\n",
    "for edition in editions:\n",
    "    if editions_list:\n",
    "        found=False\n",
    "        index = \"\"\n",
    "        for i,d in enumerate(editions_list):\n",
    "            if d.get('name') == edition['name'] and d.get('location') == edition['location'] and edition['timestamp'] not in d.get('timestamps'):\n",
    "                index = i\n",
    "                found=True\n",
    "                break\n",
    "        if found:\n",
    "            editions_list[index]['timestamps'].append(edition['timestamp'])\n",
    "            editions_list[index]['timestamp_urls'].append(edition['timestamp_url'])\n",
    "        else:\n",
    "            editions_list.append({'name': edition['name'], 'location': edition['location'], 'timestamps': [edition['timestamp']], 'timestamp_urls': [edition['timestamp_url']], 'restaurant_url': edition['restaurant_url']})\n",
    "    else: \n",
    "        editions_list.append({'name': editions[0]['name'], 'location': editions[0]['location'], 'timestamps': [editions[0]['timestamp']], 'timestamp_urls': [editions[0]['timestamp_url']], 'restaurant_url': editions[0]['restaurant_url']})"
   ]
  },
  {
   "cell_type": "code",
   "execution_count": null,
   "metadata": {},
   "outputs": [],
   "source": [
    "editions_list"
   ]
  },
  {
   "cell_type": "code",
   "execution_count": null,
   "metadata": {},
   "outputs": [],
   "source": [
    "editions_wayback_df = pd.DataFrame.from_dict(editions_list)"
   ]
  },
  {
   "cell_type": "code",
   "execution_count": null,
   "metadata": {},
   "outputs": [],
   "source": [
    "editions_wayback_df.to_csv('data/editions_wayback.csv', encoding=\"utf-8\")"
   ]
  },
  {
   "cell_type": "code",
   "execution_count": null,
   "metadata": {},
   "outputs": [],
   "source": [
    "#| hide\n",
    "import nbdev; nbdev.nbdev_export()"
   ]
  }
 ],
 "metadata": {
  "kernelspec": {
   "display_name": "python3",
   "language": "python",
   "name": "python3"
  }
 },
 "nbformat": 4,
 "nbformat_minor": 4
}
