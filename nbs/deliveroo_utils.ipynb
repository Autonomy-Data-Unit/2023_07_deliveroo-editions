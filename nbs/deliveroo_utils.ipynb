{
 "cells": [
  {
   "cell_type": "markdown",
   "id": "6b1c1013-fff9-4841-8451-95c1e4318482",
   "metadata": {},
   "source": [
    "# Deliveroo"
   ]
  },
  {
   "cell_type": "code",
   "execution_count": null,
   "id": "7e28ad27-b66c-4571-b420-eb8975e5f31d",
   "metadata": {},
   "outputs": [],
   "source": [
    "#| default_exp deliveroo_utils"
   ]
  },
  {
   "cell_type": "code",
   "execution_count": null,
   "id": "fd1af82d-dc28-487b-9e6a-ab5bac89c10f",
   "metadata": {},
   "outputs": [],
   "source": [
    "#| export\n",
    "from deliveroo_editions.selenium_utils import *\n",
    "from selenium.webdriver.common.by import By\n",
    "from selenium import webdriver\n",
    "from selenium.webdriver.chrome.service import Service\n",
    "from webdriver_manager.chrome import ChromeDriverManager\n",
    "from selenium.webdriver.chrome.options import Options\n",
    "from selenium.webdriver.support.ui import WebDriverWait\n",
    "from selenium.webdriver.support import expected_conditions as EC\n",
    "from selenium.webdriver.common.keys import Keys\n",
    "from tqdm import tqdm\n",
    "from bs4 import BeautifulSoup\n",
    "from ratelimit import limits, RateLimitException, sleep_and_retry\n",
    "import time"
   ]
  },
  {
   "cell_type": "code",
   "execution_count": null,
   "id": "7e6d5c87-212c-4f63-ad29-61ead5ce3766",
   "metadata": {},
   "outputs": [],
   "source": [
    "#| export\n",
    "@sleep_and_retry\n",
    "@limits(calls=1, period=20)\n",
    "def get_restaurant_tags(url:str, # URL for Deliveroo restaurants page\n",
    "                        driver=None\n",
    "                       ):\n",
    "    \"Returns all list elements from Deliveroo restaurants webpage corresponding to a restaurant\"\n",
    "    if not driver:\n",
    "        driver = initialise_driver(service,True)\n",
    "    time.sleep(1)\n",
    "    driver.get(url)\n",
    "    wait = WebDriverWait(driver, 10)  # Maximum wait time in seconds\n",
    "    ul_element = wait.until(EC.presence_of_element_located((By.CSS_SELECTOR, 'ul[class*=\"HomeFeedGrid\"]')))\n",
    "    soup = BeautifulSoup(ul_element.get_attribute('innerHTML'), 'html.parser')\n",
    "    filtered_li_tags = [li for li in soup.find_all('li') if not li.find_parents('li')]\n",
    "    return filtered_li_tags\n",
    "\n",
    "tags = get_restaurant_tags(\"https://web.archive.org/web/20201019/https://deliveroo.co.uk/restaurants/brighton/brighton-editions?tags=deliveroo+editions\")\n",
    "assert len(tags) == 13"
   ]
  },
  {
   "cell_type": "code",
   "execution_count": null,
   "id": "a29344f3-328d-4903-944c-8cde495a5e9a",
   "metadata": {},
   "outputs": [],
   "source": [
    "#| export\n",
    "def get_timestamp(url:str # URL for Deliveroo\n",
    "                 ):\n",
    "                     \"Returns YYYYMMDD timestamp from url of format: https://web.archive.org/web/YYYYMMDD/\"\n",
    "                     timestamp = url.split('/')[4]\n",
    "                     if timestamp.isdigit():\n",
    "                         return timestamp[0:8]\n",
    "                     else:\n",
    "                         print(\"Could not extract timestamp of format YYYYMMDD from url provided\")\n",
    "                         return\n",
    "\n",
    "assert get_timestamp(\"https://web.archive.org/web/20201019/https://deliveroo.co.uk/restaurants/brighton/brighton-editions?tags=deliveroo+editions\")"
   ]
  },
  {
   "cell_type": "code",
   "execution_count": null,
   "id": "6408e141-7cfb-4a4b-b99c-e9e108b78fb9",
   "metadata": {},
   "outputs": [],
   "source": [
    "#| export\n",
    "def add_timestamps_to_restaurants(restaurants, url):\n",
    "    for restaurant in restaurants: \n",
    "        restaurant['timestamp_url'] = url\n",
    "        restaurant['timestamp'] = get_timestamp(url)\n",
    "    return restaurants\n",
    "\n",
    "\n",
    "restaurants = [{'name': 'Oowee Vegan',\n",
    "  'location': 'brighton-editions',\n",
    "  'restaurant_url': 'https://deliveroo.co.uk/menu/brighton/brighton-editions/oowee-vegan-editions-bnc?day=today&geohash=gcpc5qr68ee1&time=ASAP'}]\n",
    "\n",
    "timestamped_restaurants = [{'name': 'Oowee Vegan',\n",
    "  'location': 'brighton-editions',\n",
    "  'timestamp': '20201019',\n",
    "  'restaurant_url': 'https://deliveroo.co.uk/menu/brighton/brighton-editions/oowee-vegan-editions-bnc?day=today&geohash=gcpc5qr68ee1&time=ASAP',\n",
    "  'timestamp_url': 'https://web.archive.org/web/20201019/https://deliveroo.co.uk/restaurants/brighton/brighton-editions?tags=deliveroo+editions'}]\n",
    "\n",
    "assert add_timestamps_to_restaurants(restaurants, timestamped_restaurants[0]['timestamp_url']) == timestamped_restaurants"
   ]
  },
  {
   "cell_type": "code",
   "execution_count": null,
   "id": "0225b207-1146-44c4-9746-ac308dac8234",
   "metadata": {},
   "outputs": [],
   "source": [
    "#| export\n",
    "def get_restaurants(url:str, # URL for Deliveroo restaurants page\n",
    "                    # headless:bool=True,\n",
    "                    driver= None\n",
    "                   ): # run headless (True) or with browser (False).\n",
    "                       \"\"\"Gets the restaurant `name`, editions `location` and Deliveroo `restaurant_url`\n",
    "                       for each restaurant on url page.\"\"\"\n",
    "                       if not driver:\n",
    "                           driver = initialise_driver(service,True)\n",
    "                       restaurants = []\n",
    "                       tags = get_restaurant_tags(url, driver)\n",
    "                       # timestamp = get_timestamp(url)\n",
    "                       for tag in tags:\n",
    "                           name, restaurant_url, location = \"\", \"\", \"\"\n",
    "                           list_sections = tag.find_all('ul')\n",
    "                           if list_sections:\n",
    "                               for list_section in list_sections:\n",
    "                                   list_items = list_section.find_all('li')\n",
    "                                   if len(list_items) >= 3:\n",
    "                                       name = list_items[0].text\n",
    "                                       try:\n",
    "                                           restaurant_url = tag.find_all('a')[0]['href']\n",
    "                                           if restaurant_url.startswith('/menu'):\n",
    "                                               restaurant_url = \"https://deliveroo.co.uk\" + restaurant_url\n",
    "                                           location = restaurant_url.split(\"/\")[4]\n",
    "                                           edition = restaurant_url.split(\"/\")[5]\n",
    "                                       except Exception as e: \n",
    "                                           print(e)\n",
    "                                           print(f\"Couldn't get metadata for {name} in {url}\")\n",
    "                                           # restaurants.append({'name': name, 'location': location, 'timestamp': timestamp, 'restaurant_url': restaurant_url, 'timestamp_url': url})\n",
    "                                       restaurants.append({'name': name, 'location': location, 'edition': edition, 'restaurant_url': restaurant_url})\n",
    "\n",
    "                                   else:\n",
    "                                       pass\n",
    "                           else:\n",
    "                               print(f\"No restaurants found at {url}\")\n",
    "                       return restaurants"
   ]
  },
  {
   "cell_type": "code",
   "execution_count": null,
   "id": "6b3b0eaa-209c-41c8-874e-f79f08a1f90e",
   "metadata": {},
   "outputs": [
    {
     "name": "stdout",
     "output_type": "stream",
     "text": [
      "list index out of range\n",
      "Couldn't get metadata for A Burgers Veggie Kitchen  by Taster in https://web.archive.org/web/20201019/https://deliveroo.co.uk/restaurants/brighton/brighton-editions?tags=deliveroo+editions\n",
      "list index out of range\n",
      "Couldn't get metadata for Saucybird in https://web.archive.org/web/20201019/https://deliveroo.co.uk/restaurants/brighton/brighton-editions?tags=deliveroo+editions\n"
     ]
    }
   ],
   "source": [
    "metadata = get_restaurants(\"https://web.archive.org/web/20201019/https://deliveroo.co.uk/restaurants/brighton/brighton-editions?tags=deliveroo+editions\")\n",
    "assert metadata == [{'name': 'Oowee Vegan',\n",
    "  'location': 'brighton',\n",
    "  'edition': 'brighton-editions',\n",
    "  'restaurant_url': 'https://deliveroo.co.uk/menu/brighton/brighton-editions/oowee-vegan-editions-bnc?day=today&geohash=gcpc5qr68ee1&time=ASAP'},\n",
    " {'name': 'Shake Shack',\n",
    "  'location': 'brighton',\n",
    "  'edition': 'brighton-editions',\n",
    "  'restaurant_url': 'https://deliveroo.co.uk/menu/brighton/brighton-editions/shake-shack-editions-bnc?day=today&geohash=gcpc5qr68ee1&time=ASAP'},\n",
    " {'name': 'Lost Boys Chicken',\n",
    "  'location': 'brighton',\n",
    "  'edition': 'hove',\n",
    "  'restaurant_url': 'https://deliveroo.co.uk/menu/brighton/hove/lost-boys-chicken-editions?day=today&geohash=gcpc5qr68ee1&time=ASAP'},\n",
    " {'name': 'The Athenian',\n",
    "  'location': 'brighton',\n",
    "  'edition': 'brighton-editions',\n",
    "  'restaurant_url': 'https://deliveroo.co.uk/menu/brighton/brighton-editions/the-athenian-editions-bnc-new?day=today&geohash=gcpc5qr68ee1&time=ASAP'},\n",
    " {'name': 'The Great British Cheesecake Company ',\n",
    "  'location': 'brighton',\n",
    "  'edition': 'brighton-editions',\n",
    "  'restaurant_url': 'https://deliveroo.co.uk/menu/brighton/brighton-editions/the-great-british-cheesecake-company-editions-bnc?day=today&geohash=gcpc5qr68ee1&time=ASAP'},\n",
    " {'name': 'The Athenian Plant Based',\n",
    "  'location': 'brighton',\n",
    "  'edition': 'brighton-editions',\n",
    "  'restaurant_url': 'https://deliveroo.co.uk/menu/brighton/brighton-editions/the-athenian-plant-based-editions-bnc-new?day=today&geohash=gcpc5qr68ee1&time=ASAP'},\n",
    " {'name': 'The Ice Cream Store',\n",
    "  'location': 'brighton',\n",
    "  'edition': 'brighton-editions',\n",
    "  'restaurant_url': 'https://deliveroo.co.uk/menu/brighton/brighton-editions/the-ice-cream-store-editions-bnc?day=today&geohash=gcpc5qr68ee1&time=ASAP'},\n",
    " {'name': 'Pleesecakes - cheesecake',\n",
    "  'location': 'brighton',\n",
    "  'edition': 'brighton-editions',\n",
    "  'restaurant_url': 'https://deliveroo.co.uk/menu/brighton/brighton-editions/pleesecakes-editions-bnc?day=today&geohash=gcpc5qr68ee1&time=ASAP'},\n",
    " {'name': 'TRIP CBD Store\\t',\n",
    "  'location': 'brighton',\n",
    "  'edition': 'brighton-editions',\n",
    "  'restaurant_url': 'https://deliveroo.co.uk/menu/brighton/brighton-editions/trip-cbd-store-editions-bnc?day=today&geohash=gcpc5qr68ee1&time=ASAP'},\n",
    " {'name': 'Halo Top',\n",
    "  'location': 'brighton',\n",
    "  'edition': 'brighton-editions',\n",
    "  'restaurant_url': 'https://deliveroo.co.uk/menu/brighton/brighton-editions/halo-top?day=today&geohash=gcpc5qr68ee1&time=ASAP'},\n",
    " {'name': 'VIP Very Italian Pizza',\n",
    "  'location': 'brighton',\n",
    "  'edition': 'brighton-editions',\n",
    "  'restaurant_url': 'https://deliveroo.co.uk/menu/brighton/brighton-editions/vip-italy-limited-hove?day=today&geohash=gcpc5qr68ee1&time=1715'},\n",
    " {'name': 'A Burgers Veggie Kitchen  by Taster',\n",
    "  'location': '',\n",
    "  'edition': 'brighton-editions',\n",
    "  'restaurant_url': ''},\n",
    " {'name': 'Saucybird',\n",
    "  'location': '',\n",
    "  'edition': 'brighton-editions',\n",
    "  'restaurant_url': ''}]"
   ]
  },
  {
   "cell_type": "code",
   "execution_count": null,
   "id": "24ee07d5-8233-433f-a6bd-9fd757b6562f",
   "metadata": {},
   "outputs": [],
   "source": [
    "#| export\n",
    "def search_deliveroo(address:str, # UK address containing a UK postcode\n",
    "                     driver= None  # Initialised Selenium webdriver\n",
    "                    ):\n",
    "                        \"Searches Deliveroo for an address, returning webdriver element once search results page has loaded.\"\n",
    "                        base_url = \"https://deliveroo.co.uk/\"\n",
    "                        if not driver:\n",
    "                            driver = initialise_driver(service,True)\n",
    "                        driver.get(base_url)\n",
    "                        wait = WebDriverWait(driver, 20)  # Maximum wait time in seconds\n",
    "                        input_element = wait.until(EC.presence_of_element_located((By.CSS_SELECTOR, 'input#location-search')))\n",
    "                        input_element.send_keys(address)\n",
    "                        input_element.send_keys(Keys.RETURN)\n",
    "                        wait = WebDriverWait(driver, 20)\n",
    "                        wait.until(EC.presence_of_element_located((By.CSS_SELECTOR, 'ul[class*=\"HomeFeedGrid\"]')))\n",
    "                        return driver\n",
    "\n",
    "test_address = \"144 Cambridge Heath Rd, Bethnal Green, London E1 5QJ\"\n",
    "driver = search_deliveroo(test_address)\n",
    "assert driver.current_url == 'https://deliveroo.co.uk/restaurants/london/stepney-green?fulfillment_method=DELIVERY&geohash=gcpvng8jvn74'"
   ]
  },
  {
   "cell_type": "code",
   "execution_count": null,
   "id": "e9932323-4550-4967-a2d1-e198919f7c9a",
   "metadata": {},
   "outputs": [],
   "source": [
    "#| export\n",
    "def results_to_editions_url(url:str, # Deliveroo search results url\n",
    "                           ):\n",
    "                               \"Apply `deliveroo+editions` filter to Deliveroo search results url\"\n",
    "                               return url.split('?')[0] + '?fulfillment_method=DELIVERY&tags=deliveroo+editions'\n",
    "\n",
    "test_url = 'https://deliveroo.co.uk/restaurants/london/stepney-green?fulfillment_method=DELIVERY&geohash=gcpvng8jvn74'\n",
    "assert results_to_editions_url(test_url) == 'https://deliveroo.co.uk/restaurants/london/stepney-green?fulfillment_method=DELIVERY&tags=deliveroo+editions'"
   ]
  },
  {
   "cell_type": "code",
   "execution_count": null,
   "id": "0aeb6553-f72f-47a7-89e0-211d9be93f8e",
   "metadata": {},
   "outputs": [
    {
     "data": {
      "text/plain": [
       "['london/whitechapel-editions',\n",
       " 'london/canary-wharf',\n",
       " 'london/caledonian-road-and-barnsbury',\n",
       " 'london/canning-town-editions',\n",
       " 'london/fish-island-area',\n",
       " 'london/blackwall']"
      ]
     },
     "execution_count": null,
     "metadata": {},
     "output_type": "execute_result"
    }
   ],
   "source": [
    "#| export\n",
    "def get_editions(url:str, # URL for Deliveroo search results page\n",
    "                    # headless:bool=True,\n",
    "                    driver= None\n",
    "                   ): # run headless (True) or with browser (False).\n",
    "                       \"\"\"Returns a list of editions location\n",
    "                       from all the editions restaurants on url page ie 'bristol-editions'.\"\"\"\n",
    "                       if not driver:\n",
    "                           driver = initialise_driver(service,True)\n",
    "                       editions_url = results_to_editions_url(url)\n",
    "                       editions_list = []\n",
    "                       tags = get_restaurant_tags(editions_url, driver)\n",
    "                       for tag in tags:\n",
    "                           edition_tags = tag.find_all('a')[0]['href'].split('/')\n",
    "                           edition = edition_tags[2].lower() + '/' + edition_tags[3].lower()\n",
    "                           if edition not in editions_list:\n",
    "                               editions_list.append(edition)\n",
    "                       return editions_list\n",
    "\n",
    "test_url = \"https://deliveroo.co.uk/restaurants/london/globe-town?fulfillment_method=DELIVERY&geohash=gcpvnuuyrtud\"\n",
    "get_editions(test_url)"
   ]
  },
  {
   "cell_type": "code",
   "execution_count": null,
   "id": "ff2daf72-34b4-46bc-a5c3-1fbc7ea40208",
   "metadata": {},
   "outputs": [],
   "source": [
    "https://deliveroo.co.uk/menu/brighton/brighton-editions/oowee-vegan-editions-bnc?day=today&geohash=gcpc5qr68ee1&time=ASAP'"
   ]
  },
  {
   "cell_type": "code",
   "execution_count": null,
   "id": "dc96b2f1-1752-46ba-b97a-82c0d0df791b",
   "metadata": {},
   "outputs": [],
   "source": [
    "'/menu/London/whitechapel-editions/dishoom-shoreditch?day=today&geohash=gcpvpqp8znt2&time=1215'"
   ]
  },
  {
   "cell_type": "code",
   "execution_count": null,
   "id": "100843b4-10d2-47c7-af41-bdc44ba3b9d6",
   "metadata": {},
   "outputs": [],
   "source": [
    "#| export\n",
    "def get_restaurants_from_editions_location(editions_list:list # list of editions locations ie ['london/whitechapel-editions','london/canary-wharf']\n",
    "                                          ):\n",
    "                                              \"gets restaurant metadata for all restaurants based at listed editions locations\"\n",
    "                                              restaurants = []\n",
    "                                              for edition in editions_list:\n",
    "                                                  edition_url = \"https://deliveroo.co.uk/restaurants/\" + edition + \"?fulfillment_method=DELIVERY&tags=deliveroo+editions\"\n",
    "                                                  restaurants += get_restaurants(edition_url)\n",
    "                                              return restaurants    \n",
    "\n",
    "editions_list = ['london/fish-island-area','london/blackwall']\n",
    "restaurants = get_restaurants_from_editions_location(editions_list)\n",
    "assert restaurants"
   ]
  },
  {
   "cell_type": "code",
   "execution_count": null,
   "id": "170f2c88-312b-40df-9d92-29cdcfa06a23",
   "metadata": {},
   "outputs": [],
   "source": [
    "#| export\n",
    "def get_editions_locations_near_addresses(addresses:list,  # list of address strings to search Deliveroo's website for\n",
    "                                          driver= None \n",
    "                                ):\n",
    "                                    \"Returns a list of all editions locations found when searching all the restaurants at or near the list of addresses\"\n",
    "                                    driver = initialise_driver(service,True)\n",
    "                                    editions_locations = []\n",
    "                                    for i, address in enumerate(addresses):\n",
    "                                        driver = search_deliveroo(address, driver)\n",
    "                                        editions = get_editions(driver.current_url)   \n",
    "                                        editions_locations.extend([item for item in editions if item not in editions_locations])\n",
    "                                    return editions_locations\n",
    "\n",
    "addresses = ['144 Cambridge Heath Rd, Bethnal Green, London E1 5QJ',\n",
    "            '20 Fonthill Rd, Finsbury Park, London N4 3HU']\n",
    "test_editions = ['london/whitechapel-editions',\n",
    " 'london/canary-wharf',\n",
    " 'london/caledonian-road-and-barnsbury',\n",
    " 'london/canning-town-editions',\n",
    " 'london/fish-island-area',\n",
    " 'london/blackwall',\n",
    " 'london/hornsey-station',\n",
    " 'london/kentish-town',\n",
    " 'london/wood-green']\n",
    "assert any(edition_location in test_editions for edition_location in get_editions_locations_near_addresses(addresses))"
   ]
  },
  {
   "cell_type": "code",
   "execution_count": null,
   "id": "675131dc-1e12-4a84-94cb-e0f051e57755",
   "metadata": {},
   "outputs": [],
   "source": [
    "#| hide\n",
    "import nbdev; nbdev.nbdev_export()"
   ]
  }
 ],
 "metadata": {
  "kernelspec": {
   "display_name": "python3",
   "language": "python",
   "name": "python3"
  }
 },
 "nbformat": 4,
 "nbformat_minor": 5
}
