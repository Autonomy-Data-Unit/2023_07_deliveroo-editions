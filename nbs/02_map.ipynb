{
 "cells": [
  {
   "cell_type": "markdown",
   "id": "98de4166-bf66-4ade-a4c7-f3c465a7ca7a",
   "metadata": {},
   "source": [
    "# Map\n",
    "\n",
    "> In this example, we will scrape Deliveroo for additional information on dark kitchen locations to map all sites in the UK."
   ]
  },
  {
   "cell_type": "code",
   "execution_count": null,
   "id": "9b62ede6-b0fa-4dfd-a23f-db2915802b2c",
   "metadata": {},
   "outputs": [],
   "source": [
    "#| default_exp fsa"
   ]
  },
  {
   "cell_type": "code",
   "execution_count": null,
   "id": "ed38371f-d8e3-43cc-bbf5-b536b1816356",
   "metadata": {},
   "outputs": [],
   "source": []
  },
  {
   "cell_type": "code",
   "execution_count": null,
   "id": "4642c624-db7f-4a42-8b74-ced7a3237d9b",
   "metadata": {},
   "outputs": [],
   "source": [
    "# read the data in"
   ]
  },
  {
   "cell_type": "code",
   "execution_count": null,
   "id": "458fca34-5c30-4124-bd0c-670dc98c9429",
   "metadata": {},
   "outputs": [],
   "source": [
    "# visit the restaurant URL"
   ]
  },
  {
   "cell_type": "code",
   "execution_count": null,
   "id": "367f0982-c718-4fda-bbf0-0ca699169b39",
   "metadata": {},
   "outputs": [],
   "source": [
    "# extract the address"
   ]
  },
  {
   "cell_type": "code",
   "execution_count": null,
   "id": "0e8b6970-cae2-402d-a9ca-b029387f9e02",
   "metadata": {},
   "outputs": [],
   "source": [
    "# lookup the address and get coords "
   ]
  },
  {
   "cell_type": "code",
   "execution_count": null,
   "id": "9ac18384-e25e-43d6-88e3-2975716379b8",
   "metadata": {},
   "outputs": [],
   "source": [
    "# plot coords on Leaflet map"
   ]
  }
 ],
 "metadata": {
  "kernelspec": {
   "display_name": "python3",
   "language": "python",
   "name": "python3"
  }
 },
 "nbformat": 4,
 "nbformat_minor": 5
}
