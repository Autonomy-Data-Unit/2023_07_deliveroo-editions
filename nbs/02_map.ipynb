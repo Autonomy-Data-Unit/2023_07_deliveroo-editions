{
 "cells": [
  {
   "cell_type": "markdown",
   "id": "98de4166-bf66-4ade-a4c7-f3c465a7ca7a",
   "metadata": {},
   "source": [
    "# Map\n",
    "\n",
    "> In this example, we will scrape Deliveroo for additional information on dark kitchen locations to map all sites in the UK."
   ]
  },
  {
   "cell_type": "code",
   "execution_count": null,
   "id": "9b62ede6-b0fa-4dfd-a23f-db2915802b2c",
   "metadata": {},
   "outputs": [],
   "source": [
    "#| default_exp fsa"
   ]
  },
  {
   "cell_type": "code",
   "execution_count": null,
   "id": "90264454-054f-4a3a-a321-6bb2367a6f31",
   "metadata": {},
   "outputs": [],
   "source": [
    "import csv\n",
    "import requests \n",
    "from bs4 import BeautifulSoup\n",
    "from nbdev.showdoc import *\n",
    "from deliveroo_editions.selenium_utils import *\n",
    "from deliveroo_editions.deliveroo_utils import *\n",
    "import pandas as pd\n",
    "import datetime\n",
    "from tqdm import tqdm\n",
    "import urllib\n",
    "import re\n",
    "import json"
   ]
  },
  {
   "cell_type": "markdown",
   "id": "c0174739-c98d-43bb-9bb6-4ed447f7312c",
   "metadata": {},
   "source": [
    "Lets read in a csv file containing all the Deliveroo Editions kitchens scraped on the 10th July 2023:"
   ]
  },
  {
   "cell_type": "code",
   "execution_count": null,
   "id": "4642c624-db7f-4a42-8b74-ced7a3237d9b",
   "metadata": {},
   "outputs": [],
   "source": [
    "csv_file = 'data/editions_2023_07_10_11hr.csv'\n",
    "data = []\n",
    "columns_to_read = ['name', 'location', 'edition', 'restaurant_url']\n",
    "\n",
    "with open(csv_file, 'r') as file:\n",
    "    reader = csv.DictReader(file)\n",
    "    for row in reader:\n",
    "        selected_data = {col: row[col] for col in columns_to_read}\n",
    "        data.append(selected_data)"
   ]
  },
  {
   "cell_type": "code",
   "execution_count": null,
   "id": "367f0982-c718-4fda-bbf0-0ca699169b39",
   "metadata": {},
   "outputs": [
    {
     "name": "stderr",
     "output_type": "stream",
     "text": [
      "100%|█████████████████████████████████████████| 197/197 [16:49<00:00,  5.13s/it]\n"
     ]
    }
   ],
   "source": [
    "# extract the address\n",
    "for i, edition in enumerate(tqdm(data)):\n",
    "    data[i]['address'] = get_address_from_restaurant_url(data[i]['restaurant_url'])"
   ]
  },
  {
   "cell_type": "code",
   "execution_count": null,
   "id": "81b1cfe0-85f1-4602-9d5b-dea0374a7682",
   "metadata": {},
   "outputs": [],
   "source": [
    "# Save the list of dictionaries to a file\n",
    "filename = 'data/editions_addressed_2023_07_10_11hr.csv'  # Specify the filename or path\n",
    "with open(filename, 'w') as file:\n",
    "    json.dump(data, file)"
   ]
  },
  {
   "cell_type": "code",
   "execution_count": null,
   "id": "01d63be8-cc38-4131-96b5-f907cd64991c",
   "metadata": {},
   "outputs": [],
   "source": [
    "### wip from here: "
   ]
  },
  {
   "cell_type": "code",
   "execution_count": null,
   "id": "602dc025-056e-4792-a284-e9bb04cea862",
   "metadata": {},
   "outputs": [],
   "source": [
    "def get_coords_from_address(address_string):\n",
    "    \"\"\"Attempt retrieval of coords for input address string.\"\"\"\n",
    "    address = urllib.parse.quote(address_string)\n",
    "    url = 'https://nominatim.openstreetmap.org/search/' + urllib.parse.quote(address) +'?format=json'\n",
    "    response = requests.get(url).json()\n",
    "    if response:\n",
    "        return {'lat': response[0]['lat'], 'lon': response[0]['lon'], 'address': address_string}\n",
    "    else:\n",
    "        postcode_string = infer_postcode(address_string)\n",
    "        if postcode_string:\n",
    "            url = \"http://api.postcodes.io/postcodes/\" + urllib.parse.quote(postcode_string)\n",
    "            response = requests.get(url).json()\n",
    "            if str(response['status']) == '200':\n",
    "                return {'lat': response['result']['latitude'], 'lon': response['result']['longitude'], 'postcode': postcode_string}\n",
    "            else:\n",
    "                # try nearby postcode:\n",
    "                nearby_postcode = get_nearby_postcode(postcode_string)\n",
    "                if nearby_postcode:\n",
    "                    url = \"http://api.postcodes.io/postcodes/\" + urllib.parse.quote(nearby_postcode)\n",
    "                    response = requests.get(url).json()\n",
    "                    if str(response['status']) == \"200\":\n",
    "                        return {'lat': response['result']['latitude'], 'lon': response['result']['longitude'], 'postcode': nearby_postcode}\n",
    "                else:\n",
    "                    print(\"failed\")\n",
    "        else:\n",
    "            # print(\"No postcode found for: \" + address_string)\n",
    "            pass"
   ]
  },
  {
   "cell_type": "code",
   "execution_count": null,
   "id": "7b957e6e-acd4-4aef-89cf-a581d16e6600",
   "metadata": {},
   "outputs": [],
   "source": [
    "def infer_postcode(address_string):\n",
    "    \"\"\"Extracts UK postcode from input address string with regex.\"\"\"\n",
    "    postcode = re.findall(r'\\b[A-Z]{1,2}[0-9][A-Z0-9]? [0-9][ABD-HJLNP-UW-Z]{2}\\b', address_string)\n",
    "    if postcode:\n",
    "        return postcode[0]\n",
    "    else:\n",
    "        return"
   ]
  }
 ],
 "metadata": {
  "kernelspec": {
   "display_name": "python3",
   "language": "python",
   "name": "python3"
  }
 },
 "nbformat": 4,
 "nbformat_minor": 5
}
