{
 "cells": [
  {
   "cell_type": "code",
   "execution_count": null,
   "metadata": {},
   "outputs": [],
   "source": [
    "#| hide\n",
    "from deliveroo_editions.core import *"
   ]
  },
  {
   "cell_type": "markdown",
   "metadata": {},
   "source": [
    "# deliveroo-editions\n",
    "\n",
    "> Package for gathering data on Deliveroo's dark kitchens"
   ]
  },
  {
   "cell_type": "markdown",
   "metadata": {},
   "source": [
    "<img caption=Blackwall Editions site src=nbs/assets/blackwall.png>"
   ]
  },
  {
   "cell_type": "markdown",
   "metadata": {},
   "source": [
    "## Install"
   ]
  },
  {
   "cell_type": "markdown",
   "metadata": {},
   "source": [
    "```sh\n",
    "pip install deliveroo_editions\n",
    "```"
   ]
  },
  {
   "cell_type": "markdown",
   "metadata": {},
   "source": [
    "## Usage"
   ]
  },
  {
   "cell_type": "markdown",
   "metadata": {},
   "source": [
    "This repo includes notebook examples in `nbs` demonstrating how to scrape current and historic on Deliveroo's dark kitchens from Deliveroo's current webpages and captures of historic webpages.\n",
    "\n",
    "Tutorial | Title  | Description | Format\n",
    "------------- | ------------- | ------------- | -------------\n",
    "00  | Wayback  | Get all 'editions' kitchens from historic Deliveroo webpages archived via the Internet Archive's Wayback Machine. | Jupyter Notebook\n",
    "01 | FSA  | Get all 'editions' kitchens based at or near FSA hygiene rated facilities with 'Deliveroo' in their name. | Jupyter Notebook"
   ]
  }
 ],
 "metadata": {
  "kernelspec": {
   "display_name": "Python 3 (ipykernel)",
   "language": "python",
   "name": "python3"
  },
  "language_info": {
   "codemirror_mode": {
    "name": "ipython",
    "version": 3
   },
   "file_extension": ".py",
   "mimetype": "text/x-python",
   "name": "python",
   "nbconvert_exporter": "python",
   "pygments_lexer": "ipython3",
   "version": "3.10.12"
  }
 },
 "nbformat": 4,
 "nbformat_minor": 4
}
