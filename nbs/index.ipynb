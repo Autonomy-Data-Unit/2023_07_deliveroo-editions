{
 "cells": [
  {
   "cell_type": "code",
   "execution_count": null,
   "metadata": {},
   "outputs": [],
   "source": [
    "#| hide\n",
    "from deliveroo_editions.core import *"
   ]
  },
  {
   "cell_type": "markdown",
   "metadata": {},
   "source": [
    "# deliveroo-editions\n",
    "\n",
    "> Package for gathering data on Deliveroo's dark kitchens"
   ]
  },
  {
   "cell_type": "markdown",
   "metadata": {},
   "source": [
    "<img caption=Blackwall Editions site src=nbs/assets/blackwall.png>\n",
    "<img caption=Editions Map src=nbs/assets/cover.png>"
   ]
  },
  {
   "cell_type": "markdown",
   "metadata": {},
   "source": [
    "## Install"
   ]
  },
  {
   "cell_type": "markdown",
   "metadata": {},
   "source": [
    "```sh\n",
    "pip install deliveroo_editions\n",
    "```"
   ]
  },
  {
   "cell_type": "markdown",
   "metadata": {},
   "source": [
    "## Usage"
   ]
  },
  {
   "cell_type": "markdown",
   "metadata": {},
   "source": [
    "This repo includes notebook examples in `nbs` demonstrating how to scrape current and historic on Deliveroo's dark kitchens from Deliveroo's current webpages and captures of historic webpages.\n",
    "\n",
    "Tutorial | Title  | Description | Format\n",
    "------------- | ------------- | ------------- | -------------\n",
    "00  | Wayback  | Get all 'editions' kitchens from historic Deliveroo webpages archived via the Internet Archive's Wayback Machine. | Jupyter Notebook\n",
    "01 | FSA  | Get all 'editions' kitchens based at or near FSA hygiene rated facilities with 'Deliveroo' in their name. | Jupyter Notebook\n",
    "02 | Map  | Geocode data and build a map with Selenium. | Jupyter Notebook\n",
    "03 | Full Search  | Get 'editions' kitchens based near all ~2900 postcode districts in the UK. | Jupyter Notebook"
   ]
  }
 ],
 "metadata": {
  "kernelspec": {
   "display_name": "python3",
   "language": "python",
   "name": "python3"
  }
 },
 "nbformat": 4,
 "nbformat_minor": 4
}
